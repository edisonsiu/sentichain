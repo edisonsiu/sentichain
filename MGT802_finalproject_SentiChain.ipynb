{
  "nbformat": 4,
  "nbformat_minor": 0,
  "metadata": {
    "colab": {
      "provenance": [],
      "mount_file_id": "1-6q1-4tI4ym_JG5qEm6_zhkN9qzgRY2e",
      "authorship_tag": "ABX9TyM3YCvoDjpOQDTknC5GEhuK",
      "include_colab_link": true
    },
    "kernelspec": {
      "name": "python3",
      "display_name": "Python 3"
    },
    "language_info": {
      "name": "python"
    }
  },
  "cells": [
    {
      "cell_type": "markdown",
      "metadata": {
        "id": "view-in-github",
        "colab_type": "text"
      },
      "source": [
        "<a href=\"https://colab.research.google.com/github/edisonsiu/sentichain/blob/main/MGT802_finalproject_SentiChain.ipynb\" target=\"_parent\"><img src=\"https://colab.research.google.com/assets/colab-badge.svg\" alt=\"Open In Colab\"/></a>"
      ]
    },
    {
      "cell_type": "markdown",
      "source": [
        "**Name: Edison Siu** |\n",
        "**Homework 1**"
      ],
      "metadata": {
        "id": "qDgmGQRL5oFl"
      }
    },
    {
      "cell_type": "markdown",
      "source": [
        "Question 1"
      ],
      "metadata": {
        "id": "WNZV7hNu6BRC"
      }
    },
    {
      "cell_type": "code",
      "execution_count": 1,
      "metadata": {
        "colab": {
          "base_uri": "https://localhost:8080/"
        },
        "id": "gqEy96o35Ci8",
        "outputId": "4abafa8f-d01a-4b16-ac18-a84dd10aed12"
      },
      "outputs": [
        {
          "output_type": "stream",
          "name": "stdout",
          "text": [
            "Mounted at /content/drive\n",
            "/content/drive/My Drive/MGT802-LLM/ClassNotebooks\n"
          ]
        }
      ],
      "source": [
        "#First, set up the environment\n",
        "from google.colab import drive\n",
        "import os\n",
        "drive.mount('/content/drive', force_remount=True)\n",
        "%cd /content/drive/My Drive/MGT802-LLM/ClassNotebooks"
      ]
    },
    {
      "cell_type": "code",
      "source": [
        "%%capture\n",
        "#!pip install  openai\n",
        "!pip install \"openai<=0.28.1\""
      ],
      "metadata": {
        "id": "EOY9xMO15SQc"
      },
      "execution_count": 2,
      "outputs": []
    },
    {
      "cell_type": "code",
      "source": [
        "import key\n",
        "import os\n",
        "import openai\n",
        "openai.api_key = key.OPENAI_API_KEY\n",
        "os.environ[\"OPENAI_API_KEY\"]=key.OPENAI_API_KEY\n",
        "apikey = key.OPENAI_API_KEY"
      ],
      "metadata": {
        "id": "htncjUZx5lt4"
      },
      "execution_count": 3,
      "outputs": []
    },
    {
      "cell_type": "code",
      "source": [
        "%%capture\n",
        "!pip install langchain"
      ],
      "metadata": {
        "id": "9zlJ2ikAZCHP"
      },
      "execution_count": 4,
      "outputs": []
    },
    {
      "cell_type": "code",
      "source": [
        "from langchain.llms import OpenAI\n",
        "from langchain.chains import LLMChain, SequentialChain\n",
        "from langchain.prompts import PromptTemplate\n",
        "from langchain.memory import SimpleMemory"
      ],
      "metadata": {
        "id": "DzfATaV7XvhX"
      },
      "execution_count": 6,
      "outputs": []
    },
    {
      "cell_type": "code",
      "source": [
        "llm = OpenAI(temperature=0.7)\n",
        "\n",
        "# Mention Chain\n",
        "mention_template = PromptTemplate(\n",
        "    input_variables=[\"token\"],\n",
        "    template=\"Generate a ramdom number X, 3<X<6, and generate and list out X number of tweets based on {token}\" #\"Use Reddit API to see how many mentions on Reddit about {token} within 24 hours. List out 1. number of mentions, 2. all the posts that mention the token\"\n",
        ")\n",
        "mention_chain = LLMChain(llm=llm, prompt=mention_template, output_key=\"mentions\")\n",
        "\n",
        "# Sentiment Chain\n",
        "sentiment_template = PromptTemplate(\n",
        "    input_variables=[\"mentions\"],\n",
        "    template=\"Analyse the overall sentiment of the posts in {mentions}. Scale of the scole is from -10 to 10, with -10 being the most negative and 10 being the most positive\"\n",
        ")\n",
        "sentiment_chain = LLMChain(llm=llm, prompt=sentiment_template, output_key=\"SentiScore\")\n",
        "\n",
        "\n"
      ],
      "metadata": {
        "id": "xnCxeiJX79kO"
      },
      "execution_count": 37,
      "outputs": []
    },
    {
      "cell_type": "code",
      "source": [
        "overall_chain = SequentialChain(\n",
        "    chains=[mention_chain, sentiment_chain],\n",
        "    input_variables=[\"token\"],\n",
        "    output_variables=[\"SentiScore\"],  # The final output we're interested in\n",
        "    verbose=True\n",
        ")"
      ],
      "metadata": {
        "id": "4RDNs0idXxJM"
      },
      "execution_count": 38,
      "outputs": []
    },
    {
      "cell_type": "code",
      "source": [
        "# Let's work on the file app.py, which we will then run with streamlit\n",
        "%%writefile app.py\n",
        "from langchain.llms import OpenAI\n",
        "from langchain.chains import LLMChain, SequentialChain\n",
        "from langchain.prompts import PromptTemplate\n",
        "from langchain.memory import SimpleMemory\n",
        "import streamlit as st\n",
        "import os\n",
        "import key\n",
        "openai_apikey = key.OPENAI_API_KEY\n",
        "os.environ[\"OPENAI_API_KEY\"] = openai_apikey\n",
        "llm = OpenAI(temperature=0.7)\n",
        "\n",
        "def mentions_chain(token):\n",
        "    mentions_template = PromptTemplate(\n",
        "        input_variables=[\"token\"],\n",
        "        template=\"Generate a ramdom number X, 3<X<6, and generate and list out X number of tweets based on {token}\" #\"Use Reddit API to see how many mentions on Reddit about {token} within 24 hours. List out 1. number of mentions, 2. all the posts that mention the token\"\n",
        "    )\n",
        "    return LLMChain(llm=llm, prompt=mentions_template).run({\"token\": token})\n",
        "\n",
        "def sentiment_chain(mentions):\n",
        "    sentiment_template = PromptTemplate(\n",
        "        input_variables=[\"mentions\"],\n",
        "        template=\"Analyse the overall sentiment of the posts in {mentions}. Scale of the scole is from -10 to 10, with -10 being the most negative and 10 being the most positive\"\n",
        "    )\n",
        "    return LLMChain(llm=llm, prompt=sentiment_template).run({\"mentions\": mentions})\n",
        "\n",
        "st.title(\"SentiChain v0.1\")\n",
        "\n",
        "with st.form(\"SentiChain_form\"):\n",
        "    token = st.text_input(\"Enter the coin or token that you are interested in, use the format $XXX\")\n",
        "    submitted = st.form_submit_button(\"Generate SentiScore\")\n",
        "\n",
        "    if submitted:\n",
        "        mentions = mentions_chain(token)\n",
        "        SentiScore = sentiment_chain(mentions)\n",
        "\n",
        "        st.subheader(\"Number of Mentions\")\n",
        "        st.write(mentions)\n",
        "\n",
        "        st.subheader(\"SentiScore\")\n",
        "        st.write(SentiScore)\n"
      ],
      "metadata": {
        "colab": {
          "base_uri": "https://localhost:8080/"
        },
        "id": "3XUT-7jQQE0s",
        "outputId": "663cda2e-a5cc-4861-86e2-cf27477a0f6c"
      },
      "execution_count": 47,
      "outputs": [
        {
          "output_type": "stream",
          "name": "stdout",
          "text": [
            "Overwriting app.py\n"
          ]
        }
      ]
    },
    {
      "cell_type": "code",
      "source": [
        "%%capture\n",
        "!pip install streamlit"
      ],
      "metadata": {
        "id": "Tx9KEb_rZubm"
      },
      "execution_count": 21,
      "outputs": []
    },
    {
      "cell_type": "code",
      "source": [
        "#%%capture\n",
        "!npm install localtunnel"
      ],
      "metadata": {
        "colab": {
          "base_uri": "https://localhost:8080/"
        },
        "id": "47WJFJANaRUa",
        "outputId": "4ade5e12-7a68-454a-8d7e-753c4c08fbc3"
      },
      "execution_count": 22,
      "outputs": [
        {
          "output_type": "stream",
          "name": "stdout",
          "text": [
            "\u001b[K\u001b[?25h\u001b[37;40mnpm\u001b[0m \u001b[0m\u001b[30;43mWARN\u001b[0m \u001b[0m\u001b[35msaveError\u001b[0m ENOENT: no such file or directory, open '/content/drive/MyDrive/MGT802-LLM/ClassNotebooks/package.json'\n",
            "\u001b[0m\u001b[37;40mnpm\u001b[0m \u001b[0m\u001b[30;43mWARN\u001b[0m \u001b[0m\u001b[35menoent\u001b[0m ENOENT: no such file or directory, open '/content/drive/MyDrive/MGT802-LLM/ClassNotebooks/package.json'\n",
            "\u001b[0m\u001b[37;40mnpm\u001b[0m \u001b[0m\u001b[30;43mWARN\u001b[0m\u001b[35m\u001b[0m ClassNotebooks No description\n",
            "\u001b[0m\u001b[37;40mnpm\u001b[0m \u001b[0m\u001b[30;43mWARN\u001b[0m\u001b[35m\u001b[0m ClassNotebooks No repository field.\n",
            "\u001b[0m\u001b[37;40mnpm\u001b[0m \u001b[0m\u001b[30;43mWARN\u001b[0m\u001b[35m\u001b[0m ClassNotebooks No README data\n",
            "\u001b[0m\u001b[37;40mnpm\u001b[0m \u001b[0m\u001b[30;43mWARN\u001b[0m\u001b[35m\u001b[0m ClassNotebooks No license field.\n",
            "\u001b[0m\n",
            "+ localtunnel@2.0.2\n",
            "updated 1 package and audited 36 packages in 0.794s\n",
            "\n",
            "3 packages are looking for funding\n",
            "  run `npm fund` for details\n",
            "\n",
            "found 2 \u001b[93mmoderate\u001b[0m severity vulnerabilities\n",
            "  run `npm audit fix` to fix them, or `npm audit` for details\n",
            "\u001b[K\u001b[?25h"
          ]
        }
      ]
    },
    {
      "cell_type": "code",
      "source": [
        "! wget -q -O - ipv4.icanhazip.com"
      ],
      "metadata": {
        "colab": {
          "base_uri": "https://localhost:8080/"
        },
        "id": "5eSkPtbLaUgM",
        "outputId": "48ea5f50-4726-4412-f9d3-3c146c1343bd"
      },
      "execution_count": 28,
      "outputs": [
        {
          "output_type": "stream",
          "name": "stdout",
          "text": [
            "35.222.131.125\n"
          ]
        }
      ]
    },
    {
      "cell_type": "code",
      "source": [
        "!streamlit run app.py &>/content/logs.txt &"
      ],
      "metadata": {
        "id": "SLXXg8_laZow"
      },
      "execution_count": 48,
      "outputs": []
    },
    {
      "cell_type": "code",
      "source": [
        "! npx localtunnel --port 8501"
      ],
      "metadata": {
        "colab": {
          "base_uri": "https://localhost:8080/"
        },
        "id": "iwosSDARao3v",
        "outputId": "608226ef-adee-4d21-bdeb-3aaffa89dedd"
      },
      "execution_count": null,
      "outputs": [
        {
          "output_type": "stream",
          "name": "stdout",
          "text": [
            "\u001b[K\u001b[?25hnpx: installed 22 in 2.417s\n",
            "your url is: https://chilly-bushes-poke.loca.lt\n"
          ]
        }
      ]
    },
    {
      "cell_type": "markdown",
      "source": [
        "**Below is the output of my the Streamlit. I entered the topic as \"Sugar Companies in the US\"**\n",
        "\n",
        "YCCI Content Creator\n",
        "Enter the topic provided by the YCCI director\n",
        "\n",
        "Generated Blog Title\n",
        "\"Uncovering the Sweet Truth: Exploring the Sugar Companies of the United States\"\n",
        "\n",
        "Generated Blog Post\n",
        "The sugar industry in the United States is a major economic force. It is estimated to contribute over $50 billion to the country's economy each year. But what does the industry actually look like? Who are the major players in the industry and how do they operate?\n",
        "\n",
        "The top three sugar companies in the United States are Imperial Sugar, C&H Sugar, and Domino Sugar. Imperial Sugar is the largest producer of sugar in the country, accounting for almost half of the total production. C&H Sugar is the second-largest producer, with a total of 15% of the national market share. Domino Sugar is the third-largest producer in the US, with a total of 8%.\n",
        "\n",
        "These companies produce a variety of sugar products including granulated sugar, powdered sugar, brown sugar, and specialty sugars. Imperial Sugar is the only company that produces all four types of sugar. C&H Sugar specializes in granulated sugar, while Domino Sugar specializes in brown sugar and specialty sugars.\n",
        "\n",
        "In addition to producing sugar, each of these companies also engages in other activities. Imperial Sugar is the only one of the three that has its own distribution network, allowing it to distribute its products to customers all over the United States. C&H\n",
        "\n",
        "Generated Promotional Tweet\n",
        "\" #SugarIndustry #ImperialSugar #CHSugar #DominoSugar Check out this blog post to learn more about the top three sugar companies in the US and how they operate! https://bit.ly/3f7Eqvj"
      ],
      "metadata": {
        "id": "1n6yt1Joi6Ad"
      }
    }
  ]
}