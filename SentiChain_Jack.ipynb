{
  "nbformat": 4,
  "nbformat_minor": 0,
  "metadata": {
    "colab": {
      "provenance": [],
      "authorship_tag": "ABX9TyOJuxBnbWdXXJlyrjZf9i5F",
      "include_colab_link": true
    },
    "kernelspec": {
      "name": "python3",
      "display_name": "Python 3"
    },
    "language_info": {
      "name": "python"
    }
  },
  "cells": [
    {
      "cell_type": "markdown",
      "metadata": {
        "id": "view-in-github",
        "colab_type": "text"
      },
      "source": [
        "<a href=\"https://colab.research.google.com/github/edisonsiu/sentichain/blob/Reddit-API/SentiChain_Jack.ipynb\" target=\"_parent\"><img src=\"https://colab.research.google.com/assets/colab-badge.svg\" alt=\"Open In Colab\"/></a>"
      ]
    },
    {
      "cell_type": "code",
      "execution_count": null,
      "metadata": {
        "id": "IMXF1qisEPo2",
        "colab": {
          "base_uri": "https://localhost:8080/"
        },
        "outputId": "2a4d8f41-fd34-4af8-ee7d-c8a53fdf4494"
      },
      "outputs": [
        {
          "output_type": "stream",
          "name": "stdout",
          "text": [
            "Mounted at /content/drive\n"
          ]
        }
      ],
      "source": [
        "from google.colab import drive\n",
        "import os\n",
        "drive.mount('/content/drive', force_remount=True)"
      ]
    },
    {
      "cell_type": "code",
      "source": [
        "#Check directory to see if files needed are in the directory\n",
        "!ls '//content/drive/My Drive/Colab Notebooks'"
      ],
      "metadata": {
        "colab": {
          "base_uri": "https://localhost:8080/"
        },
        "id": "BtwRv6T8sSRh",
        "outputId": "4a157281-4c0f-41b6-a356-e1fcfabb2410"
      },
      "execution_count": null,
      "outputs": [
        {
          "output_type": "stream",
          "name": "stdout",
          "text": [
            "'Format Conversion.ipynb'\t\t\t\t   __pycache__\n",
            " generative-ai-and-the-future-of-work-in-america-vf1.pdf   SentiChain_Jack.ipynb\n",
            " HW1_Jack_Xuhui_Zhang_XZ588.ipynb\t\t\t   vector_store_cohere\n",
            " HW2_Jack_Xuhui_Zhang_XZ588.ipynb\t\t\t   vector_store_openai\n",
            " key.py\n"
          ]
        }
      ]
    },
    {
      "cell_type": "code",
      "source": [
        "%%capture\n",
        "!pip install plotly\n",
        "!pip install requests"
      ],
      "metadata": {
        "id": "k618ZmINs8Cq"
      },
      "execution_count": null,
      "outputs": []
    },
    {
      "cell_type": "markdown",
      "source": [
        "# **1. Get Reddit by Filtering Popular Posts in certain Subreddit"
      ],
      "metadata": {
        "id": "oUEmvkIJHXZQ"
      }
    },
    {
      "cell_type": "code",
      "source": [
        "import requests\n",
        "import pandas as pd\n",
        "\n",
        "def get_reddit(subreddit, listing, limit, timeframe):\n",
        "    try:\n",
        "        base_url = f'https://www.reddit.com/r/{subreddit}/{listing}.json?limit={limit}&t={timeframe}'\n",
        "        response = requests.get(base_url, headers={'User-agent': 'SentiChain_00001'})\n",
        "        response.raise_for_status()\n",
        "        return response.json()\n",
        "    except requests.exceptions.RequestException as e:\n",
        "        print(f'An Error Occurred: {e}')\n",
        "        return None\n",
        "\n",
        "def get_results(r):\n",
        "    if r:\n",
        "        posts_data = [post['data'] for post in r['data']['children'] if not post['data']['over_18']]\n",
        "        df = pd.DataFrame(posts_data)\n",
        "        return df[['title', 'selftext', 'ups', 'downs', 'upvote_ratio', 'num_comments', 'score', 'url', 'subreddit']]\n",
        "    else:\n",
        "        return pd.DataFrame()\n"
      ],
      "metadata": {
        "id": "oC5ijn-WGjND"
      },
      "execution_count": null,
      "outputs": []
    },
    {
      "cell_type": "code",
      "source": [
        "if __name__ == '__main__':\n",
        "\n",
        "    # user input here\n",
        "    subreddits = ['crypto', 'Bitcoin', 'Ethereum']\n",
        "    listings = ['hot', 'top', 'rising']\n",
        "    limit = 100\n",
        "    timeframe = 'day'\n",
        "    # user input here\n",
        "\n",
        "\n",
        "    all_results = pd.DataFrame()\n",
        "\n",
        "    for subreddit in subreddits:\n",
        "        for listing in listings:\n",
        "            reddit_data = get_reddit(subreddit, listing, limit, timeframe)\n",
        "            reddit_df = get_results(reddit_data)\n",
        "            all_results = all_results.append(reddit_df, ignore_index=True)\n",
        "\n",
        "    # Remove duplicates based on 'url'\n",
        "    all_results.drop_duplicates(subset=['url'], inplace=True)\n",
        "\n",
        "    print(all_results)"
      ],
      "metadata": {
        "colab": {
          "base_uri": "https://localhost:8080/"
        },
        "id": "1vq0ASvLGoiy",
        "outputId": "9c192e74-af87-49a5-e9f4-720ce5295b51"
      },
      "execution_count": null,
      "outputs": [
        {
          "output_type": "stream",
          "name": "stderr",
          "text": [
            "<ipython-input-48-7b8daeeb8ae8>:15: FutureWarning: The frame.append method is deprecated and will be removed from pandas in a future version. Use pandas.concat instead.\n",
            "  all_results = all_results.append(reddit_df, ignore_index=True)\n",
            "<ipython-input-48-7b8daeeb8ae8>:15: FutureWarning: The frame.append method is deprecated and will be removed from pandas in a future version. Use pandas.concat instead.\n",
            "  all_results = all_results.append(reddit_df, ignore_index=True)\n",
            "<ipython-input-48-7b8daeeb8ae8>:15: FutureWarning: The frame.append method is deprecated and will be removed from pandas in a future version. Use pandas.concat instead.\n",
            "  all_results = all_results.append(reddit_df, ignore_index=True)\n",
            "<ipython-input-48-7b8daeeb8ae8>:15: FutureWarning: The frame.append method is deprecated and will be removed from pandas in a future version. Use pandas.concat instead.\n",
            "  all_results = all_results.append(reddit_df, ignore_index=True)\n",
            "<ipython-input-48-7b8daeeb8ae8>:15: FutureWarning: The frame.append method is deprecated and will be removed from pandas in a future version. Use pandas.concat instead.\n",
            "  all_results = all_results.append(reddit_df, ignore_index=True)\n",
            "<ipython-input-48-7b8daeeb8ae8>:15: FutureWarning: The frame.append method is deprecated and will be removed from pandas in a future version. Use pandas.concat instead.\n",
            "  all_results = all_results.append(reddit_df, ignore_index=True)\n",
            "<ipython-input-48-7b8daeeb8ae8>:15: FutureWarning: The frame.append method is deprecated and will be removed from pandas in a future version. Use pandas.concat instead.\n",
            "  all_results = all_results.append(reddit_df, ignore_index=True)\n",
            "<ipython-input-48-7b8daeeb8ae8>:15: FutureWarning: The frame.append method is deprecated and will be removed from pandas in a future version. Use pandas.concat instead.\n",
            "  all_results = all_results.append(reddit_df, ignore_index=True)\n"
          ]
        },
        {
          "output_type": "stream",
          "name": "stdout",
          "text": [
            "                                                 title  \\\n",
            "0                         Crypto is not cryptocurrency   \n",
            "1         [Meta] Regarding the future of the subreddit   \n",
            "2                Does my research proposal make sense?   \n",
            "3    Zero-Knowledge-Proofs in cryptography - seekin...   \n",
            "4    v1.0.0 stable release of Mnemonikey | English ...   \n",
            "..                                                 ...   \n",
            "451  Vitalik Buterin | Ethereum's Past, Present, Fu...   \n",
            "452                Question about staking and holding.   \n",
            "453                         How to change Beth to Eth?   \n",
            "454  Question about verification function of sample...   \n",
            "455                                  MetaMask hacked 😰   \n",
            "\n",
            "                                              selftext  ups  downs  \\\n",
            "0                                                       612      0   \n",
            "1    A bit late notice compared to a lot of the oth...  107      0   \n",
            "2    Hello, I'm seeking opinions for my PhD researc...    6      0   \n",
            "3    The Nimiq team will be orchestrating a ZKP cer...   10      0   \n",
            "4                                                         9      0   \n",
            "..                                                 ...  ...    ...   \n",
            "451                                                       1      0   \n",
            "452  I understand there's a finite amount of Eth, a...   17      0   \n",
            "453  Hello,  \\n\\n\\nBefore the 2.0 upgrade I staked ...   21      0   \n",
            "454  Contract code: [here](https://github.com/eth-i...    6      0   \n",
            "455  I just got hit for a ton of eth 3 meta wallets...   32      0   \n",
            "\n",
            "     upvote_ratio  num_comments  score  \\\n",
            "0            0.96           206    612   \n",
            "1            0.90            38    107   \n",
            "2            0.75             5      6   \n",
            "3            0.92             0     10   \n",
            "4            0.85             4      9   \n",
            "..            ...           ...    ...   \n",
            "451          1.00             0      1   \n",
            "452          1.00             8     17   \n",
            "453          0.89             8     21   \n",
            "454          0.72             3      6   \n",
            "455          0.61           180     32   \n",
            "\n",
            "                                                   url subreddit  \n",
            "0             http://www.cryptoisnotcryptocurrency.com    crypto  \n",
            "1    https://www.reddit.com/r/crypto/comments/14777...    crypto  \n",
            "2    https://www.reddit.com/r/crypto/comments/18dzt...    crypto  \n",
            "3    https://www.reddit.com/r/crypto/comments/18dr2...    crypto  \n",
            "4    https://github.com/kklash/mnemonikey/releases/...    crypto  \n",
            "..                                                 ...       ...  \n",
            "451   https://youtu.be/MWaNej58Wn0?si=G-fMzB-clvsz9NHp  ethereum  \n",
            "452  https://www.reddit.com/r/ethereum/comments/183...  ethereum  \n",
            "453  https://www.reddit.com/r/ethereum/comments/183...  ethereum  \n",
            "454  https://www.reddit.com/r/ethereum/comments/183...  ethereum  \n",
            "455  https://www.reddit.com/r/ethereum/comments/183...  ethereum  \n",
            "\n",
            "[323 rows x 9 columns]\n"
          ]
        },
        {
          "output_type": "stream",
          "name": "stderr",
          "text": [
            "<ipython-input-48-7b8daeeb8ae8>:15: FutureWarning: The frame.append method is deprecated and will be removed from pandas in a future version. Use pandas.concat instead.\n",
            "  all_results = all_results.append(reddit_df, ignore_index=True)\n"
          ]
        }
      ]
    },
    {
      "cell_type": "markdown",
      "source": [],
      "metadata": {
        "id": "s-4L5hAZHxFy"
      }
    },
    {
      "cell_type": "markdown",
      "source": [
        "# **2. Search Reddit by Search for Keywords"
      ],
      "metadata": {
        "id": "5U3dKVWqHzz_"
      }
    },
    {
      "cell_type": "code",
      "source": [
        "import requests\n",
        "import pandas as pd\n",
        "\n",
        "def search_reddit(query, limit, timeframe):\n",
        "    try:\n",
        "        base_url = f'https://www.reddit.com/search.json?q={query}&limit={limit}&t={timeframe}&sort=top'\n",
        "        response = requests.get(base_url, headers={'User-agent': 'SentiChain_00001'})\n",
        "        response.raise_for_status()\n",
        "        return response.json()\n",
        "    except requests.exceptions.RequestException as e:\n",
        "        print(f'An Error Occurred: {e}')\n",
        "        return None\n",
        "\n",
        "def get_results(r):\n",
        "    if r and 'data' in r and 'children' in r['data']:\n",
        "        posts_data = [post['data'] for post in r['data']['children'] if not post['data'].get('over_18', False)]\n",
        "        if posts_data:\n",
        "            df = pd.DataFrame(posts_data)\n",
        "            return df[['title', 'selftext', 'ups', 'downs', 'upvote_ratio', 'num_comments', 'score', 'url', 'subreddit']]\n",
        "        else:\n",
        "            print(\"No posts data found in response.\")\n",
        "    else:\n",
        "        print(\"Response is empty or has an unexpected format.\")\n",
        "    return pd.DataFrame()\n"
      ],
      "metadata": {
        "id": "y1YfhXhXKdA3"
      },
      "execution_count": null,
      "outputs": []
    },
    {
      "cell_type": "code",
      "source": [
        "if __name__ == '__main__':\n",
        "    query = 'Solana'  # Example keyword, replace with your specific keyword\n",
        "    limit = 1000\n",
        "    timeframe = 'day'\n",
        "\n",
        "    reddit_data = search_reddit(query, limit, timeframe)\n",
        "    if reddit_data:\n",
        "        reddit_df = get_results(reddit_data)\n",
        "        reddit_df.drop_duplicates(subset=['url'], inplace=True)\n",
        "        print(reddit_df)\n",
        "    else:\n",
        "        print(\"No data received from Reddit.\")"
      ],
      "metadata": {
        "id": "ENw-RWM_KpQy",
        "outputId": "0466fedc-52f8-4d4a-c15a-b6685b02a11c",
        "colab": {
          "base_uri": "https://localhost:8080/"
        }
      },
      "execution_count": null,
      "outputs": [
        {
          "output_type": "stream",
          "name": "stdout",
          "text": [
            "                                                title  \\\n",
            "0        How much I earned staking for a couple days!   \n",
            "1       How Much I Earned Staking Solana For 1 Month!   \n",
            "2   When your buddy's got paper hands and bails to...   \n",
            "3   Update on the Joker Controversy: A Lawyer, who...   \n",
            "4                                                3-4$   \n",
            "..                                                ...   \n",
            "85                                         Argy Bargy   \n",
            "86  [Hiring][Hiring for 25 Jobs in the Crypto Space!]   \n",
            "87                            guys help (MUST READ!!)   \n",
            "88                                            Solana!   \n",
            "89  Investment Giant VanEck Predicts Solana (SOL) ...   \n",
            "\n",
            "                                             selftext  ups  downs  \\\n",
            "0                                                       73      0   \n",
            "1   If you remember my old post, I did a 2 week st...   63      0   \n",
            "2                                                       53      0   \n",
            "3                                                       44      0   \n",
            "4   I personally think a price range between 3 - 4...   39      0   \n",
            "..                                                ...  ...    ...   \n",
            "85  Бычка все ближе? 👍\\n\\nРынок play2earn начинает...    0      0   \n",
            "86  | Company            | Job                    ...    0      0   \n",
            "87  i dont have a good pc so i need a few of you t...    0      0   \n",
            "88  With Solana looking set to flip both XRP and B...    0      0   \n",
            "89                                                       0      0   \n",
            "\n",
            "    upvote_ratio  num_comments  score  \\\n",
            "0           0.90            37     73   \n",
            "1           0.75           122     63   \n",
            "2           0.98             9     53   \n",
            "3           0.96            17     44   \n",
            "4           0.76            16     39   \n",
            "..           ...           ...    ...   \n",
            "85          0.50             3      0   \n",
            "86          0.33             0      0   \n",
            "87          0.25             0      0   \n",
            "88          0.44             1      0   \n",
            "89          0.31             8      0   \n",
            "\n",
            "                                                  url       subreddit  \n",
            "0                 https://i.redd.it/iw7puxcxwf5c1.png          solana  \n",
            "1                 https://i.redd.it/ugzuqpj3ce5c1.jpg          solana  \n",
            "2                 https://i.redd.it/i24ntgce4g5c1.jpg          solana  \n",
            "3                 https://i.redd.it/vplk90p0lf5c1.jpg            GTA6  \n",
            "4   https://www.reddit.com/r/algorand/comments/18f...        algorand  \n",
            "..                                                ...             ...  \n",
            "85  https://www.reddit.com/r/Bybit/comments/18fb97...           Bybit  \n",
            "86  https://www.reddit.com/r/remotework/comments/1...      remotework  \n",
            "87  https://www.reddit.com/r/Unmineable/comments/1...      Unmineable  \n",
            "88  https://www.reddit.com/r/TREZOR/comments/18f6q...          TREZOR  \n",
            "89  https://dailyhodl.com/2023/12/09/investment-gi...  CryptoCurrency  \n",
            "\n",
            "[83 rows x 9 columns]\n"
          ]
        }
      ]
    }
  ]
}