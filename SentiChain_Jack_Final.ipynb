{
  "nbformat": 4,
  "nbformat_minor": 0,
  "metadata": {
    "colab": {
      "provenance": [],
      "authorship_tag": "ABX9TyMhsED4rel9K+J9aZJIfhz9",
      "include_colab_link": true
    },
    "kernelspec": {
      "name": "python3",
      "display_name": "Python 3"
    },
    "language_info": {
      "name": "python"
    }
  },
  "cells": [
    {
      "cell_type": "markdown",
      "metadata": {
        "id": "view-in-github",
        "colab_type": "text"
      },
      "source": [
        "<a href=\"https://colab.research.google.com/github/edisonsiu/sentichain/blob/Reddit-API/SentiChain_Jack_Final.ipynb\" target=\"_parent\"><img src=\"https://colab.research.google.com/assets/colab-badge.svg\" alt=\"Open In Colab\"/></a>"
      ]
    },
    {
      "cell_type": "code",
      "execution_count": 1,
      "metadata": {
        "id": "IMXF1qisEPo2",
        "colab": {
          "base_uri": "https://localhost:8080/"
        },
        "outputId": "fb19cbd8-994e-487f-e54e-e785209e6295"
      },
      "outputs": [
        {
          "output_type": "stream",
          "name": "stdout",
          "text": [
            "Mounted at /content/drive\n"
          ]
        }
      ],
      "source": [
        "from google.colab import drive\n",
        "import os\n",
        "drive.mount('/content/drive', force_remount=True)"
      ]
    },
    {
      "cell_type": "code",
      "source": [
        "#Check directory to see if files needed are in the directory\n",
        "!ls '//content/drive/My Drive/Colab Notebooks'"
      ],
      "metadata": {
        "colab": {
          "base_uri": "https://localhost:8080/"
        },
        "id": "BtwRv6T8sSRh",
        "outputId": "990c7158-ca1a-4da6-f6c4-3862afef567d"
      },
      "execution_count": 2,
      "outputs": [
        {
          "output_type": "stream",
          "name": "stdout",
          "text": [
            "'Format Conversion.ipynb'\t\t\t\t   __pycache__\n",
            " generative-ai-and-the-future-of-work-in-america-vf1.pdf   SentiChain_Jack.ipynb\n",
            " HW1_Jack_Xuhui_Zhang_XZ588.ipynb\t\t\t   vector_store_cohere\n",
            " HW2_Jack_Xuhui_Zhang_XZ588.ipynb\t\t\t   vector_store_openai\n",
            " key.py\n"
          ]
        }
      ]
    },
    {
      "cell_type": "code",
      "source": [
        "%%capture\n",
        "!pip install plotly\n",
        "!pip install requests"
      ],
      "metadata": {
        "id": "k618ZmINs8Cq"
      },
      "execution_count": 3,
      "outputs": []
    },
    {
      "cell_type": "markdown",
      "source": [
        "# **2. Search Reddit by Search for Keywords"
      ],
      "metadata": {
        "id": "5U3dKVWqHzz_"
      }
    },
    {
      "cell_type": "code",
      "source": [
        "import requests\n",
        "import pandas as pd\n",
        "\n",
        "def search_reddit(query, limit, timeframe):\n",
        "    try:\n",
        "        base_url = f'https://www.reddit.com/search.json?q={query}&limit={limit}&t={timeframe}&sort=top'\n",
        "        response = requests.get(base_url, headers={'User-agent': 'SentiChain_00001'})\n",
        "        response.raise_for_status()\n",
        "        return response.json()\n",
        "    except requests.exceptions.RequestException as e:\n",
        "        print(f'An Error Occurred: {e}')\n",
        "        return None\n",
        "\n",
        "def get_results(r):\n",
        "    if r and 'data' in r and 'children' in r['data']:\n",
        "        posts_data = [post['data'] for post in r['data']['children'] if not post['data'].get('over_18', False)]\n",
        "        if posts_data:\n",
        "            df = pd.DataFrame(posts_data)\n",
        "            return df[['title', 'selftext', 'ups', 'downs', 'upvote_ratio', 'num_comments', 'score', 'url', 'subreddit']]\n",
        "        else:\n",
        "            print(\"No posts data found in response.\")\n",
        "    else:\n",
        "        print(\"Response is empty or has an unexpected format.\")\n",
        "    return pd.DataFrame()\n"
      ],
      "metadata": {
        "id": "y1YfhXhXKdA3"
      },
      "execution_count": 49,
      "outputs": []
    },
    {
      "cell_type": "code",
      "source": [
        "if __name__ == '__main__':\n",
        "\n",
        "\n",
        "    # User Input here!!!!!!!!!!!!!!!!!!!!!!!!!!!!!!!!!!!!!!!!!!!!!!!!!!!!!!!!!#\n",
        "    query = 'Dogecoin'\n",
        "    limit = 1000\n",
        "    timeframe = 'day'\n",
        "    # User Input here!!!!!!!!!!!!!!!!!!!!!!!!!!!!!!!!!!!!!!!!!!!!!!!!!!!!!!!!!#\n",
        "\n",
        "\n",
        "    reddit_data = search_reddit(query, limit, timeframe)\n",
        "    if reddit_data:\n",
        "        reddit_df = get_results(reddit_data)\n",
        "        reddit_df.drop_duplicates(subset=['url'], inplace=True)\n",
        "        print(reddit_df)\n",
        "    else:\n",
        "        print(\"No data received from Reddit.\")"
      ],
      "metadata": {
        "id": "ENw-RWM_KpQy",
        "outputId": "44a909fe-2afc-4ce6-e7ad-100897f2d9b8",
        "colab": {
          "base_uri": "https://localhost:8080/"
        }
      },
      "execution_count": 50,
      "outputs": [
        {
          "output_type": "stream",
          "name": "stdout",
          "text": [
            "                                                title  \\\n",
            "0       be true to yourselves shibes, act accordingly   \n",
            "1                  I Love Ðogecoin and I love you all   \n",
            "2         Last three months have been giving me hope.   \n",
            "3         Ruh roh folks what’s this looking like……….👍   \n",
            "4   People who just started investing in crypto ri...   \n",
            "5   I'll keep reposting till we hit the Dollar. We...   \n",
            "6   Everybody who likes when Ðogecoin price goes u...   \n",
            "7   It doesn’t matter where you come from if you a...   \n",
            "8                               Just bought the dip 💎   \n",
            "9                     DOGE will have own satellite 🛰️   \n",
            "10                                Did you DOGE today?   \n",
            "11                     Keep hodling ladies and gents!   \n",
            "12                             dip before the 15¢ run   \n",
            "13                                  When do Lambo???    \n",
            "14                            Absolutely STUNNED!!!!!   \n",
            "15  now... a rebound in a few minutes... in a few ...   \n",
            "16  All of the people holding Ðogecoin we are the ...   \n",
            "17                          DOGECOIN DAILY DISUCSSION   \n",
            "18  Some of yall are seeing red for the first time...   \n",
            "19                                  Buy More DOGE 🐕🙌💎   \n",
            "20       not saying I told you so, but I told you so.   \n",
            "21                     Am I the only one seeing this?   \n",
            "22                                       Love you all   \n",
            "23                       hodl strong ladies and gents   \n",
            "24                        To explain what’s happening   \n",
            "25  This feels a lot like a money printer.. this l...   \n",
            "26                                             700% 🎲   \n",
            "27  Weekly Directory | Questions, Unboxing strateg...   \n",
            "28                  One piece of good news. Just one.   \n",
            "29                                          Hold here   \n",
            "30  The Memecoin Race is On: How Likely Is Floki S...   \n",
            "31  DOGECOIN Price Spikes Up By Double Digits Amid...   \n",
            "32                                  What is it worth?   \n",
            "33               Move Dogecoins from old Jaxx wallet.   \n",
            "34                                  Well that was fun   \n",
            "35                                    Dogecoin mining   \n",
            "36                                       Current mood   \n",
            "38  Massive Whale Movement Triggers Key Barrier Re...   \n",
            "39  NDAX Market Report, Key Notes &amp; Crypto Ove...   \n",
            "40                                     Paper digitals   \n",
            "41                             Crypto Market Overview   \n",
            "46  [Store] Collectors Cache 2019, Aghanims 2021, ...   \n",
            "48  Top &amp; New Meme Coins To Watch On December ...   \n",
            "49  Crypto Goes Mainstream: Germany's Journey to B...   \n",
            "50                              Crypto Market Summary   \n",
            "51  Earn 36 dollars that you can withdraw in Dogec...   \n",
            "52                                       Current mood   \n",
            "53  Bonk (BONK), a Solana-based dog-themed memecoi...   \n",
            "54                  Not sure what to do, need advice.   \n",
            "55  It's incredibly funny how this huge correciton...   \n",
            "56  [Store] Collectors Cache 2019, Aghanims 2021, ...   \n",
            "58                                        #BLASTchain   \n",
            "59                                  New Members Intro   \n",
            "60  🚨 Dogecoin (DOGE) &amp; Bitcoin Traders BEWARE...   \n",
            "61       Received SHIB from gnosis in Coinbase Wallet   \n",
            "63  Dogecoin and Retik financing (RETIK) to reach ...   \n",
            "64  📉 Dogecoin Flash Crash Analysis: Latest News, ...   \n",
            "\n",
            "                                             selftext  ups  downs  \\\n",
            "0                                                      109      0   \n",
            "1                                                       79      0   \n",
            "2   In the last three months, doge has seen roughl...   63      0   \n",
            "3                                                       48      0   \n",
            "4                                                       45      0   \n",
            "5   I'm posting daily on my Twitter for anyone who...   43      0   \n",
            "6                                                       35      0   \n",
            "7                                                       38      0   \n",
            "8   I am a doge girlie, I love Dogecoin and the co...   35      0   \n",
            "9                                                       28      0   \n",
            "10                                                      31      0   \n",
            "11                                                      28      0   \n",
            "12                         HOÐL BABY HOÐL\\n\\n🚀🚀🚀\\n\\n🍻   27      0   \n",
            "13                                  When??? When??? 🐶   28      0   \n",
            "14         These cards are exceptionally beautiful!!!   27      0   \n",
            "15                                                      16      0   \n",
            "16                                                      14      0   \n",
            "17  Hi Shibes,\\n\\nWelcome to this weeks discussion...   14      0   \n",
            "18                                               📈📉📈📉   13      0   \n",
            "19                                                      13      0   \n",
            "20  https://www.reddit.com/r/dogecoin/comments/18b...   14      0   \n",
            "21  It flipped! Some already posted with: what wou...   11      0   \n",
            "22  Just wanted to say that I LOVE our community a...    9      0   \n",
            "23                                                       8      0   \n",
            "24                 Gonna need some chips for that dip    5      0   \n",
            "25                                                       7      0   \n",
            "26                                                       7      0   \n",
            "27  **Welcome to the Discussion Thread and Directo...    6      0   \n",
            "28                                                       5      0   \n",
            "29                                                       5      0   \n",
            "30                                                       4      0   \n",
            "31                                                       3      0   \n",
            "32  dogecoin is worth more than 10¢. Dogecoin is a...    4      0   \n",
            "33   Hello, Can someone please help me learn how t...    5      0   \n",
            "34                                While it lasted lol    2      0   \n",
            "35  Hello everyone,\\n\\nI am minding to invest in b...    2      0   \n",
            "36                                                       2      0   \n",
            "38                                                       2      0   \n",
            "39  DEC 4 - DEC 10\\n\\n**Market Updates**\\n\\n* The ...    2      0   \n",
            "40                                                       1      0   \n",
            "41   \\#btcpics #btc #cryptocurrency #crypto #crypt...    1      0   \n",
            "46  ***Accepting PayPal &amp; CRYPTO*** *Currency*...    1      0   \n",
            "48  Every day, we examine our selections for the t...    1      0   \n",
            "49   \\n\\n[Crypto Goes Mainstream: Germany's Journe...    1      0   \n",
            "50    [Crypto (stockbuyvest.com)](https://stockbuy...    1      0   \n",
            "51  You register through my link here\\n\\nhttps://o...    1      0   \n",
            "52                                                       1      0   \n",
            "53   \\n\\n[Bonk (BONK)](https://optimisus.com/news/...    1      0   \n",
            "54  Hello Reddit, I recently hit an unrealisticall...    0      0   \n",
            "55  &amp;#x200B;\\n\\nhttps://preview.redd.it/u8icbd...    1      0   \n",
            "56  ***Accepting PayPal &amp; CRYPTO*** *Currency*...    1      0   \n",
            "58  #BLASTchain is #LIVE and open for business. #T...    1      0   \n",
            "59  If you’re new to the community, introduce your...    1      0   \n",
            "60                                                       0      0   \n",
            "61  I sent ethereum from my Coinbase account to my...    0      0   \n",
            "63  Dogecoin and Retik financing (RETIK) to reach ...    0      0   \n",
            "64                                                       0      0   \n",
            "\n",
            "    upvote_ratio  num_comments  score  \\\n",
            "0           0.91            11    109   \n",
            "1           0.93            14     79   \n",
            "2           0.90             8     63   \n",
            "3           0.87            24     48   \n",
            "4           0.89             5     45   \n",
            "5           0.85             4     43   \n",
            "6           0.89             2     35   \n",
            "7           0.93             6     38   \n",
            "8           0.93            10     35   \n",
            "9           0.85             9     28   \n",
            "10          0.86             5     31   \n",
            "11          0.92             2     28   \n",
            "12          0.91             8     27   \n",
            "13          0.88             3     28   \n",
            "14          0.96            53     27   \n",
            "15          0.77             5     16   \n",
            "16          0.82             0     14   \n",
            "17          1.00            12     14   \n",
            "18          0.79             1     13   \n",
            "19          0.78             0     13   \n",
            "20          0.82             4     14   \n",
            "21          0.87            16     11   \n",
            "22          0.91             1      9   \n",
            "23          0.79             1      8   \n",
            "24          0.67             3      5   \n",
            "25          0.89             5      7   \n",
            "26          0.89             1      7   \n",
            "27          0.88             0      6   \n",
            "28          0.73             3      5   \n",
            "29          0.63             0      5   \n",
            "30          0.84             2      4   \n",
            "31          1.00             1      3   \n",
            "32          0.70             6      4   \n",
            "33          0.86             4      5   \n",
            "34          0.57             1      2   \n",
            "35          0.75             2      2   \n",
            "36          1.00             0      2   \n",
            "38          1.00             1      2   \n",
            "39          1.00             0      2   \n",
            "40          1.00             0      1   \n",
            "41          1.00             0      1   \n",
            "46          1.00             0      1   \n",
            "48          1.00             0      1   \n",
            "49          0.67             0      1   \n",
            "50          1.00             0      1   \n",
            "51          1.00             1      1   \n",
            "52          1.00             0      1   \n",
            "53          1.00             0      1   \n",
            "54          0.46            12      0   \n",
            "55          1.00             0      1   \n",
            "56          1.00             0      1   \n",
            "58          1.00             0      1   \n",
            "59          1.00             0      1   \n",
            "60          0.50             1      0   \n",
            "61          0.50            17      0   \n",
            "63          0.50             0      0   \n",
            "64          0.50             1      0   \n",
            "\n",
            "                                                  url              subreddit  \n",
            "0                 https://i.redd.it/lkt5jkgdin5c1.jpg               dogecoin  \n",
            "1              https://www.reddit.com/gallery/18fphi2               dogecoin  \n",
            "2   https://www.reddit.com/r/dogecoin/comments/18g...               dogecoin  \n",
            "3                https://i.redd.it/6lh2upxfqn5c1.jpeg               dogecoin  \n",
            "4                https://i.redd.it/cdzso13zmm5c1.jpeg               dogecoin  \n",
            "5                https://i.redd.it/0es34gw7yo5c1.jpeg               dogecoin  \n",
            "6                https://i.redd.it/t25jekid0p5c1.jpeg               dogecoin  \n",
            "7                https://i.redd.it/fvbtmzmdgo5c1.jpeg               dogecoin  \n",
            "8   https://www.reddit.com/r/dogecoin/comments/18f...               dogecoin  \n",
            "9              https://www.reddit.com/gallery/18fuaue               dogecoin  \n",
            "10                https://i.redd.it/h7zksxxlup5c1.jpg               dogecoin  \n",
            "11                https://i.redd.it/qj9a5bsevq5c1.jpg               dogecoin  \n",
            "12  https://www.reddit.com/r/dogecoin/comments/18g...               dogecoin  \n",
            "13                    https://v.redd.it/vhpdqh7jwn5c1               dogecoin  \n",
            "14             https://www.reddit.com/gallery/18g8obv   Currencytradingcards  \n",
            "15                https://i.redd.it/8xzudfpwtp5c1.png               dogecoin  \n",
            "16               https://i.redd.it/rzb63casvo5c1.jpeg               dogecoin  \n",
            "17  https://www.reddit.com/r/dogecoin/comments/18f...               dogecoin  \n",
            "18               https://i.redd.it/qrx05sz9zo5c1.jpeg               dogecoin  \n",
            "19                https://i.redd.it/3mx3a8wgto5c1.jpg               dogecoin  \n",
            "20  https://www.reddit.com/r/dogecoin/comments/18g...               dogecoin  \n",
            "21  https://www.reddit.com/r/Avax/comments/18g15vo...                   Avax  \n",
            "22  https://www.reddit.com/r/dogecoin/comments/18g...               dogecoin  \n",
            "23  https://www.reddit.com/r/dogecoin/comments/18f...               dogecoin  \n",
            "24                https://i.redd.it/uy4isv7imo5c1.gif               dogecoin  \n",
            "25               https://i.redd.it/dxirpn2hvr5c1.jpeg               dogecoin  \n",
            "26  https://www.reddit.com/r/dogecoin/comments/18g...               dogecoin  \n",
            "27  https://www.reddit.com/r/Currencytradingcards/...   Currencytradingcards  \n",
            "28  https://www.reddit.com/r/dogecoin/comments/18g...               dogecoin  \n",
            "29  https://www.reddit.com/r/dogecoin/comments/18g...               dogecoin  \n",
            "30  https://dailycoin.com/can-floki-outperform-shi...                  Floki  \n",
            "31  https://coincu.com/235728-dogecoin-price-spike...   Crypto_Currency_News  \n",
            "32  https://www.reddit.com/r/dogecoin/comments/18g...               dogecoin  \n",
            "33  https://www.reddit.com/r/dogecoin/comments/18f...               dogecoin  \n",
            "34  https://www.reddit.com/r/dogecoin/comments/18f...               dogecoin  \n",
            "35  https://www.reddit.com/r/dogemining/comments/1...             dogemining  \n",
            "36                    https://v.redd.it/y4feysqflq5c1               dogecoin  \n",
            "38  https://dailycoin.com/dogecoin-revisits-key-ba...       cryptoloversclub  \n",
            "39  https://www.reddit.com/r/NDAX/comments/18fwo9l...                   NDAX  \n",
            "40             https://www.reddit.com/gallery/18g35wp        CompoundTrading  \n",
            "41  https://www.reddit.com/r/TheCryptoCity/comment...          TheCryptoCity  \n",
            "46  https://www.reddit.com/r/Dota2Trade/comments/1...             Dota2Trade  \n",
            "48  https://www.reddit.com/r/NextBullCrypto/commen...         NextBullCrypto  \n",
            "49  https://www.reddit.com/r/u_Fairdesk-Exchange/c...    u_Fairdesk-Exchange  \n",
            "50  https://www.reddit.com/r/stockstobuytoday/comm...       stockstobuytoday  \n",
            "51  https://www.reddit.com/r/referralcodes/comment...          referralcodes  \n",
            "52                    https://v.redd.it/9vppvrgnlq5c1               dogecoin  \n",
            "53  https://www.reddit.com/r/u_optimisus/comments/...            u_optimisus  \n",
            "54  https://www.reddit.com/r/Assistance/comments/1...             Assistance  \n",
            "55  https://www.reddit.com/r/CryptoCurrencyClassic...  CryptoCurrencyClassic  \n",
            "56  https://www.reddit.com/r/Dota2Trade/comments/1...             Dota2Trade  \n",
            "58                https://i.redd.it/fnpyh5p1in5c1.jpg              SafeBLAST  \n",
            "59  https://www.reddit.com/r/dogecave/comments/18f...               dogecave  \n",
            "60                       https://youtu.be/yukQJy9c4qs   u_Cryptodailytradsig  \n",
            "61                https://i.redd.it/y3yn9zj90p5c1.jpg            pancakeswap  \n",
            "63                https://i.redd.it/98jbgko8wm5c1.png        DogeCoinFaucets  \n",
            "64                       https://youtu.be/knCvT3czmY8   u_Cryptodailytradsig  \n"
          ]
        }
      ]
    },
    {
      "cell_type": "markdown",
      "source": [
        "(1) Define and calculate the engagement_score"
      ],
      "metadata": {
        "id": "nMqFqmLi5MBX"
      }
    },
    {
      "cell_type": "code",
      "source": [
        "def calculate_engagement_score(post):\n",
        "    num_comments = post['num_comments']\n",
        "    score = post['score']\n",
        "    # Adjusting the engagement score: 60% num_comments and 40% score\n",
        "    return (0.6 * num_comments) + (0.4 * score)\n",
        "\n",
        "def process_posts(df):\n",
        "    # First, calculate the engagement score for each post\n",
        "    df['engagement_score'] = df.apply(calculate_engagement_score, axis=1)\n",
        "\n",
        "    # Calculate the sum of all engagement scores\n",
        "    total_engagement_score = df['engagement_score'].sum()\n",
        "\n",
        "    # Now, calculate the weight for each post\n",
        "    df['post_weight'] = df['engagement_score'] / total_engagement_score\n",
        "\n",
        "    return df\n",
        "\n",
        "# Assuming reddit_df is your DataFrame from the Reddit data\n",
        "processed_df = process_posts(reddit_df)\n",
        "print(processed_df[['title', 'selftext', 'engagement_score', 'post_weight']])\n",
        "\n"
      ],
      "metadata": {
        "colab": {
          "base_uri": "https://localhost:8080/"
        },
        "id": "BXn5YCMjABE7",
        "outputId": "55e74836-6230-44d2-b694-aa11ab5c13fb"
      },
      "execution_count": 6,
      "outputs": [
        {
          "output_type": "stream",
          "name": "stdout",
          "text": [
            "                                                title  \\\n",
            "0                  I Love Ðogecoin and I love you all   \n",
            "1   Thoughts on $PEEP (SOL) - the Solana $PEPE spi...   \n",
            "2            Is there any downside to staking Solana?   \n",
            "3   Found these extra drops in my wallet and want ...   \n",
            "4           Is this a sign to buy Guac? It looks nice   \n",
            "..                                                ...   \n",
            "77  📈 Cardano breaks into top 10 DeFi protocols by...   \n",
            "78  Celestia Price Prediction as Airdrop Token App...   \n",
            "79                                     Solana network   \n",
            "80                                              S.O.S   \n",
            "82  Solana congested network? Here we go again and...   \n",
            "\n",
            "                                             selftext  engagement_score  \\\n",
            "0                                                                  36.6   \n",
            "1   Not asking for investing advice, but rather if...              36.0   \n",
            "2   Hey guys, I’m relatively new to the crypto sce...              25.2   \n",
            "3                                                                  29.8   \n",
            "4   Saw this t shirt at my local shop. Didn’t buy ...              14.2   \n",
            "..                                                ...               ...   \n",
            "77                                                                  0.4   \n",
            "78                                                                  0.0   \n",
            "79  Hello guys,\\n\\nTime to time i am searching for...               0.0   \n",
            "80  Very good morning, I believed in your project ...               3.0   \n",
            "82  Oh not surprised with another solana congested...              16.2   \n",
            "\n",
            "    post_weight  \n",
            "0      0.105293  \n",
            "1      0.103567  \n",
            "2      0.072497  \n",
            "3      0.085731  \n",
            "4      0.040852  \n",
            "..          ...  \n",
            "77     0.001151  \n",
            "78     0.000000  \n",
            "79     0.000000  \n",
            "80     0.008631  \n",
            "82     0.046605  \n",
            "\n",
            "[80 rows x 4 columns]\n"
          ]
        }
      ]
    },
    {
      "cell_type": "markdown",
      "source": [
        "(2) Get sentiment_score for each posts\n"
      ],
      "metadata": {
        "id": "t9NgBJ0F_n8k"
      }
    },
    {
      "cell_type": "code",
      "source": [
        "%%capture\n",
        "!pip install  langchain     #Langchain\n",
        "!pip install  \"openai<=0.28.1\"  #OpenAI pre-11/07\n",
        "\n",
        "\n",
        "!pip install tiktoken       #tokenizer for Open AI models\n",
        "!pip install streamlit      #GUI for apps"
      ],
      "metadata": {
        "id": "3NKocSrWGwbM"
      },
      "execution_count": 7,
      "outputs": []
    },
    {
      "cell_type": "code",
      "source": [
        "# Import the `key.py` file and get OpenAI's API key.\n",
        "os.chdir('/content/drive/My Drive/Colab Notebooks')\n",
        "import key\n",
        "\n",
        "import openai\n",
        "apikey_openai = key.OPENAI_API_KEY\n",
        "os.environ[\"OPENAI_API_KEY\"] = apikey_openai"
      ],
      "metadata": {
        "id": "W9kxTyzaHDJ4"
      },
      "execution_count": 8,
      "outputs": []
    },
    {
      "cell_type": "code",
      "source": [
        "import langchain\n",
        "import time\n",
        "\n",
        "from langchain.agents import initialize_agent, load_tools\n",
        "from langchain.agents import AgentType\n",
        "from langchain.llms import OpenAI\n",
        "from langchain.utilities import SerpAPIWrapper"
      ],
      "metadata": {
        "id": "8FrO5eToCg7_"
      },
      "execution_count": 36,
      "outputs": []
    },
    {
      "cell_type": "code",
      "source": [
        "import asyncio\n",
        "from concurrent.futures import ThreadPoolExecutor\n",
        "\n",
        "# ... (other necessary imports and function definitions)\n",
        "\n",
        "# Asynchronous function to process posts concurrently\n",
        "async def process_posts_concurrently(posts, query):\n",
        "    loop = asyncio.get_event_loop()\n",
        "    with ThreadPoolExecutor() as executor:\n",
        "        tasks = [loop.run_in_executor(executor, sentiment_analysis, truncate_text(post), query) for post in posts]\n",
        "        return await asyncio.gather(*tasks)\n",
        "\n",
        "# Usage example, assuming processed_df and query are defined\n",
        "async def main():\n",
        "    # Start timer\n",
        "    s = time.perf_counter()\n",
        "\n",
        "    # Process all selftext values in processed_df\n",
        "    posts = processed_df['selftext'].tolist()\n",
        "    sentiment_scores = await process_posts_concurrently(posts, query)\n",
        "\n",
        "    # Calculate elapsed time\n",
        "    elapsed_time = time.perf_counter() - s\n",
        "    print(f\"Sentiment analysis executed in {elapsed_time:.2f} seconds.\")\n",
        "\n",
        "    # Add the sentiment_scores to the DataFrame\n",
        "    processed_df['sentiment_score'] = sentiment_scores\n",
        "\n",
        "    # Return the DataFrame with the required columns\n",
        "    return processed_df[['title', 'selftext', 'engagement_score', 'post_weight', 'sentiment_score']]\n",
        "\n",
        "# Run the main coroutine\n",
        "new_df = await main()\n",
        "\n",
        "# new_df now contains the updated DataFrame\n",
        "print(new_df)\n"
      ],
      "metadata": {
        "colab": {
          "base_uri": "https://localhost:8080/"
        },
        "id": "5nkrpWtAJBmW",
        "outputId": "58b316d5-e6eb-472d-808f-efc5dd947344"
      },
      "execution_count": 51,
      "outputs": [
        {
          "output_type": "stream",
          "name": "stdout",
          "text": [
            "Sentiment analysis executed in 6.36 seconds.\n",
            "                                                title  \\\n",
            "0                  I Love Ðogecoin and I love you all   \n",
            "1   Thoughts on $PEEP (SOL) - the Solana $PEPE spi...   \n",
            "2            Is there any downside to staking Solana?   \n",
            "3   Found these extra drops in my wallet and want ...   \n",
            "4           Is this a sign to buy Guac? It looks nice   \n",
            "..                                                ...   \n",
            "77  📈 Cardano breaks into top 10 DeFi protocols by...   \n",
            "78  Celestia Price Prediction as Airdrop Token App...   \n",
            "79                                     Solana network   \n",
            "80                                              S.O.S   \n",
            "82  Solana congested network? Here we go again and...   \n",
            "\n",
            "                                             selftext  engagement_score  \\\n",
            "0                                                                  36.6   \n",
            "1   Not asking for investing advice, but rather if...              36.0   \n",
            "2   Hey guys, I’m relatively new to the crypto sce...              25.2   \n",
            "3                                                                  29.8   \n",
            "4   Saw this t shirt at my local shop. Didn’t buy ...              14.2   \n",
            "..                                                ...               ...   \n",
            "77                                                                  0.4   \n",
            "78                                                                  0.0   \n",
            "79  Hello guys,\\n\\nTime to time i am searching for...               0.0   \n",
            "80  Very good morning, I believed in your project ...               3.0   \n",
            "82  Oh not surprised with another solana congested...              16.2   \n",
            "\n",
            "    post_weight  sentiment_score  \n",
            "0      0.105293              0.0  \n",
            "1      0.103567              0.0  \n",
            "2      0.072497              0.0  \n",
            "3      0.085731              0.0  \n",
            "4      0.040852              0.0  \n",
            "..          ...              ...  \n",
            "77     0.001151              0.0  \n",
            "78     0.000000              0.0  \n",
            "79     0.000000              0.0  \n",
            "80     0.008631              0.0  \n",
            "82     0.046605              0.0  \n",
            "\n",
            "[80 rows x 5 columns]\n"
          ]
        }
      ]
    },
    {
      "cell_type": "markdown",
      "source": [
        "(3) Calculate the weighted_sentiment_score"
      ],
      "metadata": {
        "id": "Ji8DpXq0_2q2"
      }
    },
    {
      "cell_type": "code",
      "source": [
        "def calculate_weighted_sentiment_score(df):\n",
        "    df_copy = df.copy()\n",
        "    # Calculate the weighted sentiment score\n",
        "    df_copy['weighted_sentiment'] = df_copy['sentiment_score'] * df_copy['post_weight']\n",
        "    weighted_sentiment_score = df_copy['weighted_sentiment'].sum()\n",
        "    return weighted_sentiment_score\n",
        "\n",
        "# Call the function and get the weighted sentiment score\n",
        "weighted_sentiment_score = calculate_weighted_sentiment_score(new_df)\n",
        "print(f\"The weighted sentiment score is: {weighted_sentiment_score:.2f}\")\n",
        "\n"
      ],
      "metadata": {
        "colab": {
          "base_uri": "https://localhost:8080/"
        },
        "id": "upNkKv1VJpD5",
        "outputId": "1c538761-a764-46e0-e412-9e09a0876523"
      },
      "execution_count": 52,
      "outputs": [
        {
          "output_type": "stream",
          "name": "stdout",
          "text": [
            "The weighted sentiment score is: 0.03\n"
          ]
        }
      ]
    }
  ]
}